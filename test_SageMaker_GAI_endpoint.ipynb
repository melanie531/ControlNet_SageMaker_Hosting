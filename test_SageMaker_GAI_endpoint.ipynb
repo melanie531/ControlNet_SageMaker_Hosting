{
 "cells": [
  {
   "cell_type": "code",
   "execution_count": 1,
   "id": "de5eb8c9",
   "metadata": {},
   "outputs": [],
   "source": [
    "import sys,os\n",
    "sys.path.append(\"./container/ControlNet\") \n",
    "os.environ['region'] = 'us-east-1'"
   ]
  },
  {
   "cell_type": "code",
   "execution_count": 2,
   "id": "a8664657",
   "metadata": {},
   "outputs": [
    {
     "name": "stderr",
     "output_type": "stream",
     "text": [
      "/home/ec2-user/anaconda3/envs/control/lib/python3.8/site-packages/tqdm/auto.py:21: TqdmWarning: IProgress not found. Please update jupyter and ipywidgets. See https://ipywidgets.readthedocs.io/en/stable/user_install.html\n",
      "  from .autonotebook import tqdm as notebook_tqdm\n"
     ]
    },
    {
     "name": "stdout",
     "output_type": "stream",
     "text": [
      "logging improved.\n",
      "Running on local URL:  http://0.0.0.0:7862\n",
      "Running on public URL: https://567c77a7ab15a4ebf6.gradio.live\n",
      "\n",
      "This share link expires in 72 hours. For free permanent hosting and GPU upgrades (NEW!), check out Spaces: https://huggingface.co/spaces\n"
     ]
    },
    {
     "data": {
      "text/html": [
       "<div><iframe src=\"https://567c77a7ab15a4ebf6.gradio.live\" width=\"100%\" height=\"500\" allow=\"autoplay; camera; microphone; clipboard-read; clipboard-write;\" frameborder=\"0\" allowfullscreen></iframe></div>"
      ],
      "text/plain": [
       "<IPython.core.display.HTML object>"
      ]
     },
     "metadata": {},
     "output_type": "display_data"
    },
    {
     "name": "stdout",
     "output_type": "stream",
     "text": [
      "[array([[[ 29,   8,   8],\n",
      "        [ 28,  16,   8],\n",
      "        [ 24,   0,   7],\n",
      "        ...,\n",
      "        [105,  80,  51],\n",
      "        [ 91,  56,  38],\n",
      "        [ 60,  16,   6]],\n",
      "\n",
      "       [[ 36,  21,  14],\n",
      "        [ 31,  18,  12],\n",
      "        [ 62,  38,  22],\n",
      "        ...,\n",
      "        [ 39,  13,  11],\n",
      "        [ 62,  35,  11],\n",
      "        [ 80,  24,   9]],\n",
      "\n",
      "       [[ 23,  12,  10],\n",
      "        [ 24,   9,  11],\n",
      "        [ 78,  47,  32],\n",
      "        ...,\n",
      "        [ 28,   3,   3],\n",
      "        [ 88,  57,  30],\n",
      "        [ 66,  19,   3]],\n",
      "\n",
      "       ...,\n",
      "\n",
      "       [[ 37,  14,   0],\n",
      "        [ 62,  29,  12],\n",
      "        [ 48,  19,   6],\n",
      "        ...,\n",
      "        [140,  90,  47],\n",
      "        [ 35,   7,  12],\n",
      "        [ 70,  31,  16]],\n",
      "\n",
      "       [[ 45,  24,  10],\n",
      "        [ 54,  24,  16],\n",
      "        [ 66,  28,  15],\n",
      "        ...,\n",
      "        [120,  55,  28],\n",
      "        [ 69,  32,  28],\n",
      "        [ 67,  36,  19]],\n",
      "\n",
      "       [[ 47,  19,  19],\n",
      "        [ 62,  35,  23],\n",
      "        [ 76,  29,  12],\n",
      "        ...,\n",
      "        [ 97,  49,  25],\n",
      "        [ 84,  40,  19],\n",
      "        [ 71,  33,  22]]])]\n",
      "[array([[[ 22,   0,   1],\n",
      "        [ 23,   4,   1],\n",
      "        [ 26,   1,   7],\n",
      "        ...,\n",
      "        [ 78,  13,   7],\n",
      "        [ 72,  13,   8],\n",
      "        [ 78,  24,   8]],\n",
      "\n",
      "       [[ 26,   4,   2],\n",
      "        [ 24,   4,   5],\n",
      "        [ 33,   5,   7],\n",
      "        ...,\n",
      "        [ 83,  12,   9],\n",
      "        [ 98,  27,  12],\n",
      "        [ 80,  16,   5]],\n",
      "\n",
      "       [[ 27,   6,   8],\n",
      "        [ 25,   4,   9],\n",
      "        [ 37,   6,  12],\n",
      "        ...,\n",
      "        [ 86,  13,   9],\n",
      "        [116,  37,  21],\n",
      "        [ 70,   2,   0]],\n",
      "\n",
      "       ...,\n",
      "\n",
      "       [[ 50,   9,   3],\n",
      "        [ 64,   4,   2],\n",
      "        [ 85,  13,  11],\n",
      "        ...,\n",
      "        [ 47,   1,   0],\n",
      "        [ 83,  16,   8],\n",
      "        [ 83,   9,   4]],\n",
      "\n",
      "       [[ 54,  13,   8],\n",
      "        [ 77,  17,  13],\n",
      "        [ 91,  20,  15],\n",
      "        ...,\n",
      "        [ 92,   9,   6],\n",
      "        [109,  28,  17],\n",
      "        [ 92,  19,   5]],\n",
      "\n",
      "       [[ 55,  11,  15],\n",
      "        [ 64,  12,  14],\n",
      "        [ 92,  15,   8],\n",
      "        ...,\n",
      "        [ 98,  21,  11],\n",
      "        [137,  50,  20],\n",
      "        [ 94,  30,  16]]])]\n"
     ]
    }
   ],
   "source": [
    "from gradio_hed2image import  process\n",
    "import json\n",
    "import sagemaker"
   ]
  },
  {
   "cell_type": "code",
   "execution_count": null,
   "id": "efcbeb3c",
   "metadata": {},
   "outputs": [],
   "source": []
  }
 ],
 "metadata": {
  "kernelspec": {
   "display_name": "control",
   "language": "python",
   "name": "control"
  },
  "language_info": {
   "codemirror_mode": {
    "name": "ipython",
    "version": 3
   },
   "file_extension": ".py",
   "mimetype": "text/x-python",
   "name": "python",
   "nbconvert_exporter": "python",
   "pygments_lexer": "ipython3",
   "version": "3.8.5"
  }
 },
 "nbformat": 4,
 "nbformat_minor": 5
}
