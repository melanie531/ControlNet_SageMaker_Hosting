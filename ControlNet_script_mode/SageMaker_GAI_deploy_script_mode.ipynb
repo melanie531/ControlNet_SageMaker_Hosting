{
 "cells": [
  {
   "cell_type": "code",
   "execution_count": 6,
   "id": "6707eeca",
   "metadata": {},
   "outputs": [],
   "source": [
    "# setups\n",
    "\n",
    "import os\n",
    "import json\n",
    "\n",
    "import boto3\n",
    "import sagemaker\n",
    "from sagemaker.pytorch import PyTorchModel\n",
    "from sagemaker import get_execution_role\n",
    "\n",
    "from sagemaker.serializers import JSONSerializer\n",
    "from sagemaker.deserializers import JSONDeserializer\n",
    "from sagemaker.predictor import Predictor"
   ]
  },
  {
   "cell_type": "code",
   "execution_count": 2,
   "id": "6772d728",
   "metadata": {},
   "outputs": [],
   "source": [
    "session = sagemaker.Session()\n",
    "bucket = session.default_bucket()\n",
    "prefix = \"sagemaker/generative-ai-controlnet\"\n",
    "role = get_execution_role()"
   ]
  },
  {
   "cell_type": "markdown",
   "id": "47283df4",
   "metadata": {},
   "source": [
    "uncomment the below code cells to prepare model artifacts and upload to s3 if you haven't done so"
   ]
  },
  {
   "cell_type": "code",
   "execution_count": null,
   "id": "073c9526",
   "metadata": {},
   "outputs": [],
   "source": [
    "import tarfile\n",
    "from pathlib import Path\n",
    "import tqdm\n",
    "def create_tar(tarfile_name: str, local_path: Path):\n",
    "    \"\"\"\n",
    "    Create a tar.gz archive with the content of `local_path`.\n",
    "    \"\"\"\n",
    "    file_list = [k for k in local_path.glob(\"**/*.*\") if f\"{k.relative_to(local_path)}\"[0] != \".\"]\n",
    "    pbar = tqdm.tqdm(file_list, unit=\"files\")\n",
    "    with tarfile.open(tarfile_name, mode=\"w:gz\") as archive:\n",
    "        for k in pbar:\n",
    "            pbar.set_description(f\"{k}\")\n",
    "            archive.add(k, arcname=f\"{k.relative_to(local_path)}\")\n",
    "    tar_size = Path(tarfile_name).stat().st_size / 10**6\n",
    "    return "
   ]
  },
  {
   "cell_type": "code",
   "execution_count": null,
   "id": "ba21656e",
   "metadata": {},
   "outputs": [],
   "source": [
    "%%time\n",
    "tar_file = \"model.tar.gz\"\n",
    "tar_size = create_tar(tar_file, Path(\"../models\"))\n",
    "print(f\"Created {tar_file}\")"
   ]
  },
  {
   "cell_type": "code",
   "execution_count": null,
   "id": "2a75d0f9",
   "metadata": {},
   "outputs": [],
   "source": [
    "model_data_path = s3_path_join(\"s3://\", bucket, prefix + \"/models\")\n",
    "print(f\"Uploading Models to {model_data_path}\")\n",
    "model_uri = S3Uploader.upload(\"model.tar.gz\", model_data_path)\n",
    "print(f\"Uploaded roberta model to {model_uri}\")"
   ]
  },
  {
   "cell_type": "code",
   "execution_count": 13,
   "id": "c0c08268",
   "metadata": {},
   "outputs": [],
   "source": [
    "model_uri = 's3://sagemaker-us-east-1-631450739534/sagemaker/generative-ai-controlnet/models/model.tar.gz'"
   ]
  },
  {
   "cell_type": "code",
   "execution_count": 16,
   "id": "474cc51d",
   "metadata": {},
   "outputs": [],
   "source": [
    "model = PyTorchModel(\n",
    "    entry_point=\"inference.py\",\n",
    "    source_dir=\"ControlNet\",\n",
    "    role=role,\n",
    "    model_data=model_uri,\n",
    "    framework_version=\"1.12.1\",\n",
    "    py_version=\"py38\",\n",
    "    predictor_cls=Predictor,\n",
    "    code_location=f's3://{bucket}/{prefix}/sourcedir',\n",
    "    model_server_workers=1,\n",
    "    \n",
    ")"
   ]
  },
  {
   "cell_type": "code",
   "execution_count": null,
   "id": "4c244465",
   "metadata": {},
   "outputs": [],
   "source": [
    "# set local_mode to False if you want to deploy on a remote\n",
    "# SageMaker instance\n",
    "\n",
    "local_mode = True\n",
    "\n",
    "if local_mode:\n",
    "    instance_type = \"local\"\n",
    "else:\n",
    "    instance_type = \"ml.g5.xlarge\"\n",
    "\n",
    "predictor = model.deploy(\n",
    "    initial_instance_count=1,\n",
    "    instance_type=instance_type,\n",
    "    serializer=JSONSerializer(),\n",
    "    deserializer=JSONDeserializer(),\n",
    ")"
   ]
  },
  {
   "cell_type": "code",
   "execution_count": 18,
   "id": "2bccbf83",
   "metadata": {},
   "outputs": [],
   "source": [
    "file_name = \"../data.json\"\n",
    "with open(file_name, 'r') as file:\n",
    "    json_data = json.load(file)\n",
    "    \n"
   ]
  },
  {
   "cell_type": "code",
   "execution_count": null,
   "id": "882aa7cd",
   "metadata": {},
   "outputs": [],
   "source": [
    "predictor.predict(json_data)"
   ]
  },
  {
   "cell_type": "code",
   "execution_count": 24,
   "id": "4d64b70d",
   "metadata": {},
   "outputs": [],
   "source": [
    "predictor.delete_model()\n",
    "predictor.delete_endpoint()"
   ]
  },
  {
   "cell_type": "code",
   "execution_count": null,
   "id": "1d88a477",
   "metadata": {},
   "outputs": [],
   "source": []
  },
  {
   "cell_type": "code",
   "execution_count": null,
   "id": "0798f69a",
   "metadata": {},
   "outputs": [],
   "source": []
  },
  {
   "cell_type": "code",
   "execution_count": null,
   "id": "9cd3c55b",
   "metadata": {},
   "outputs": [],
   "source": []
  }
 ],
 "metadata": {
  "kernelspec": {
   "display_name": "conda_python3",
   "language": "python",
   "name": "conda_python3"
  },
  "language_info": {
   "codemirror_mode": {
    "name": "ipython",
    "version": 3
   },
   "file_extension": ".py",
   "mimetype": "text/x-python",
   "name": "python",
   "nbconvert_exporter": "python",
   "pygments_lexer": "ipython3",
   "version": "3.10.8"
  }
 },
 "nbformat": 4,
 "nbformat_minor": 5
}
