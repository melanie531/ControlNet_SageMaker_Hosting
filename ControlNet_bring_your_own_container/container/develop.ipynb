{
 "cells": [
  {
   "cell_type": "code",
   "execution_count": 19,
   "id": "64985458",
   "metadata": {},
   "outputs": [],
   "source": [
    "import sys\n",
    "sys.path.append(\"./ControlNet-bk\") "
   ]
  },
  {
   "cell_type": "code",
   "execution_count": 21,
   "id": "d4f3dc39",
   "metadata": {},
   "outputs": [
    {
     "name": "stdout",
     "output_type": "stream",
     "text": [
      "Running on local URL:  http://0.0.0.0:7861\n",
      "Running on public URL: https://91f2a0ffe3c2341381.gradio.live\n",
      "\n",
      "This share link expires in 72 hours. For free permanent hosting and GPU upgrades (NEW!), check out Spaces: https://huggingface.co/spaces\n"
     ]
    },
    {
     "data": {
      "text/html": [
       "<div><iframe src=\"https://91f2a0ffe3c2341381.gradio.live\" width=\"100%\" height=\"500\" allow=\"autoplay; camera; microphone; clipboard-read; clipboard-write;\" frameborder=\"0\" allowfullscreen></iframe></div>"
      ],
      "text/plain": [
       "<IPython.core.display.HTML object>"
      ]
     },
     "metadata": {},
     "output_type": "display_data"
    },
    {
     "name": "stdout",
     "output_type": "stream",
     "text": [
      "[array([[[ 91, 110, 113],\n",
      "        [ 85, 107, 116],\n",
      "        [ 76,  97, 107],\n",
      "        ...,\n",
      "        [ 91, 103, 106],\n",
      "        [ 91, 106, 109],\n",
      "        [119, 127, 130]],\n",
      "\n",
      "       [[ 84, 103, 113],\n",
      "        [ 88, 110, 120],\n",
      "        [ 79, 100, 110],\n",
      "        ...,\n",
      "        [ 94, 102, 105],\n",
      "        [ 91, 102, 107],\n",
      "        [118, 126, 136]],\n",
      "\n",
      "       [[ 84, 104, 114],\n",
      "        [ 86, 107, 119],\n",
      "        [ 80, 103, 114],\n",
      "        ...,\n",
      "        [ 93, 103, 107],\n",
      "        [ 93, 105, 108],\n",
      "        [120, 130, 132]],\n",
      "\n",
      "       ...,\n",
      "\n",
      "       [[ 54,  52,  66],\n",
      "        [ 53,  51,  71],\n",
      "        [ 45,  44,  66],\n",
      "        ...,\n",
      "        [ 54,  61,  94],\n",
      "        [ 55,  63,  95],\n",
      "        [ 52,  56,  84]],\n",
      "\n",
      "       [[ 59,  55,  68],\n",
      "        [ 55,  51,  71],\n",
      "        [ 45,  43,  65],\n",
      "        ...,\n",
      "        [ 56,  58,  94],\n",
      "        [ 56,  64,  95],\n",
      "        [ 58,  63,  93]],\n",
      "\n",
      "       [[ 48,  43,  59],\n",
      "        [ 47,  45,  65],\n",
      "        [ 42,  42,  62],\n",
      "        ...,\n",
      "        [ 47,  52,  87],\n",
      "        [ 51,  59,  91],\n",
      "        [ 59,  57,  84]]])]\n"
     ]
    }
   ],
   "source": [
    "from ControlNet_bk.gradio_hed2image import  process\n",
    "import json\n",
    "import sagemaker"
   ]
  },
  {
   "cell_type": "code",
   "execution_count": null,
   "id": "1a3b2984",
   "metadata": {},
   "outputs": [],
   "source": [
    "results = process()"
   ]
  },
  {
   "cell_type": "code",
   "execution_count": 11,
   "id": "6f5ec4f2",
   "metadata": {},
   "outputs": [],
   "source": [
    "from share import *\n",
    "import config\n",
    "\n",
    "import cv2\n",
    "import einops\n",
    "import gradio as gr\n",
    "import numpy as np\n",
    "# import torch\n",
    "import random\n",
    "import base64\n",
    "import json\n",
    "import sys\n",
    "import io, os\n",
    "import signal\n",
    "import traceback\n",
    "# import flask\n",
    "\n",
    "# from pytorch_lightning import seed_everything\n",
    "from annotator.util import resize_image, HWC3\n",
    "from annotator.hed import HEDdetector\n",
    "# from cldm.model import create_model, load_state_dict\n",
    "# from cldm.ddim_hacked import DDIMSampler"
   ]
  },
  {
   "cell_type": "code",
   "execution_count": 12,
   "id": "c0a6b2e9",
   "metadata": {},
   "outputs": [],
   "source": [
    "### hardcode values\n",
    "prompt = \"oil painting\"\n",
    "num_samples = 1\n",
    "image_resolution = 512\n",
    "strength = 1.0\n",
    "guess_mode = False\n",
    "detect_resolution = 512\n",
    "ddim_steps = 20\n",
    "scale = 9.0\n",
    "seed = 1213180976\n",
    "eta = 0.0\n",
    "a_prompt = 'best quality, extremely detailed'\n",
    "n_prompt = 'longbody, lowres, bad anatomy, bad hands, missing fingers, extra digit, fewer digits, cropped, worst quality, low quality'\n",
    "\n",
    "############"
   ]
  },
  {
   "cell_type": "code",
   "execution_count": 14,
   "id": "cf1aaef0",
   "metadata": {},
   "outputs": [],
   "source": [
    "apply_hed = HEDdetector()\n",
    "from PIL import Image\n",
    "input_image = np.array(Image.open(\"old.png\").convert(\"RGB\")).astype(np.uint8)\n",
    "\n",
    "input_image = HWC3(input_image)\n",
    "detected_map = apply_hed(resize_image(input_image, detect_resolution))\n",
    "detected_map = HWC3(detected_map)\n",
    "\n",
    "img = resize_image(input_image, image_resolution)\n",
    "H, W, C = img.shape\n",
    "\n",
    "detected_map = cv2.resize(detected_map, (W, H), interpolation=cv2.INTER_LINEAR) \n",
    "\n",
    "data = {\n",
    "    \"detected_map\": base64.b64encode(detected_map).decode(\"utf-8\"), \n",
    "    \"prompt\": prompt, \n",
    "    \"a_prompt\": a_prompt, \n",
    "    \"n_prompt\": n_prompt, \n",
    "    \"num_samples\": num_samples,  \n",
    "    \"ddim_steps\": ddim_steps, \n",
    "    \"guess_mode\": guess_mode, \n",
    "    \"strength\": strength, \n",
    "    \"scale\": scale, \n",
    "    \"seed\": seed, \n",
    "    \"eta\": eta, \n",
    "    \"H\": H, \n",
    "    \"W\": W, \n",
    "    \"C\": C\n",
    "       }"
   ]
  },
  {
   "cell_type": "code",
   "execution_count": 15,
   "id": "9d90bd22",
   "metadata": {},
   "outputs": [],
   "source": [
    "import io, json\n",
    "with io.open('data.json', 'w', encoding='utf-8') as f:\n",
    "    f.write(json.dumps(data))"
   ]
  },
  {
   "cell_type": "code",
   "execution_count": 6,
   "id": "168ff38c",
   "metadata": {},
   "outputs": [
    {
     "name": "stdout",
     "output_type": "stream",
     "text": [
      "/home/ec2-user/SageMaker/ControlNet_SageMaker_Hosting/container\n"
     ]
    }
   ],
   "source": [
    "!pwd"
   ]
  },
  {
   "cell_type": "code",
   "execution_count": 4,
   "id": "89a82653",
   "metadata": {},
   "outputs": [],
   "source": [
    "import tarfile\n",
    "from pathlib import Path\n",
    "import tqdm\n",
    "import sagemaker\n",
    "from sagemaker.s3 import S3Uploader, s3_path_join"
   ]
  },
  {
   "cell_type": "code",
   "execution_count": 5,
   "id": "66dc8d8f",
   "metadata": {},
   "outputs": [],
   "source": [
    "def create_tar(tarfile_name: str, local_path: Path):\n",
    "    \"\"\"\n",
    "    Create a tar.gz archive with the content of `local_path`.\n",
    "    \"\"\"\n",
    "    file_list = [k for k in local_path.glob(\"**/*.*\") if f\"{k.relative_to(local_path)}\"[0] != \".\"]\n",
    "    pbar = tqdm.tqdm(file_list, unit=\"files\")\n",
    "    with tarfile.open(tarfile_name, mode=\"w:gz\") as archive:\n",
    "        for k in pbar:\n",
    "            pbar.set_description(f\"{k}\")\n",
    "            archive.add(k, arcname=f\"{k.relative_to(local_path)}\")\n",
    "    tar_size = Path(tarfile_name).stat().st_size / 10**6\n",
    "    return "
   ]
  },
  {
   "cell_type": "code",
   "execution_count": 8,
   "id": "603985e7",
   "metadata": {},
   "outputs": [
    {
     "name": "stderr",
     "output_type": "stream",
     "text": [
      "ControlNet/models/control_sd15_hed.pth: 100%|██████████| 3/3 [05:47<00:00, 115.90s/files]"
     ]
    },
    {
     "name": "stdout",
     "output_type": "stream",
     "text": [
      "Created model.tar.gz, size None MB\n",
      "CPU times: user 5min 43s, sys: 4.67 s, total: 5min 48s\n",
      "Wall time: 5min 47s\n"
     ]
    },
    {
     "name": "stderr",
     "output_type": "stream",
     "text": [
      "\n"
     ]
    }
   ],
   "source": [
    "%%time\n",
    "tar_file = \"model.tar.gz\"\n",
    "tar_size = create_tar(tar_file, Path(\"./ControlNet/models\"))\n",
    "print(f\"Created {tar_file}\")"
   ]
  },
  {
   "cell_type": "code",
   "execution_count": 9,
   "id": "742dae86",
   "metadata": {},
   "outputs": [],
   "source": [
    "session = sagemaker.Session()\n",
    "bucket = session.default_bucket()\n",
    "prefix = \"sagemaker/generative-ai-controlnet\""
   ]
  },
  {
   "cell_type": "code",
   "execution_count": 10,
   "id": "098d516b",
   "metadata": {},
   "outputs": [
    {
     "name": "stdout",
     "output_type": "stream",
     "text": [
      "Uploading Models to s3://sagemaker-us-east-1-631450739534/sagemaker/generative-ai-controlnet/models\n",
      "Uploaded roberta model to s3://sagemaker-us-east-1-631450739534/sagemaker/generative-ai-controlnet/models/model.tar.gz\n"
     ]
    }
   ],
   "source": [
    "model_data_path = s3_path_join(\"s3://\", bucket, prefix + \"/models\")\n",
    "print(f\"Uploading Models to {model_data_path}\")\n",
    "model_uri = S3Uploader.upload(\"model.tar.gz\", model_data_path)\n",
    "print(f\"Uploaded roberta model to {model_uri}\")"
   ]
  },
  {
   "cell_type": "code",
   "execution_count": null,
   "id": "d97f5667",
   "metadata": {},
   "outputs": [],
   "source": []
  }
 ],
 "metadata": {
  "kernelspec": {
   "display_name": "control",
   "language": "python",
   "name": "control"
  },
  "language_info": {
   "codemirror_mode": {
    "name": "ipython",
    "version": 3
   },
   "file_extension": ".py",
   "mimetype": "text/x-python",
   "name": "python",
   "nbconvert_exporter": "python",
   "pygments_lexer": "ipython3",
   "version": "3.8.5"
  }
 },
 "nbformat": 4,
 "nbformat_minor": 5
}
